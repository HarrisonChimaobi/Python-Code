{
 "cells": [
  {
   "cell_type": "markdown",
   "id": "ce16c221-2b80-4239-81dc-bd11d272c063",
   "metadata": {},
   "source": [
    "# DATA TYPE"
   ]
  },
  {
   "cell_type": "markdown",
   "id": "7b854d13-1418-4386-8070-0e5974ea1e5a",
   "metadata": {},
   "source": [
    "## Integers"
   ]
  },
  {
   "cell_type": "code",
   "execution_count": 1,
   "id": "a20084f1-eb1d-4568-9ab9-e78025c7ad66",
   "metadata": {},
   "outputs": [
    {
     "name": "stdout",
     "output_type": "stream",
     "text": [
      "9\n",
      "<class 'int'>\n"
     ]
    }
   ],
   "source": [
    "x = 9\n",
    "print (x)\n",
    "print (type(x))"
   ]
  },
  {
   "cell_type": "markdown",
   "id": "0cc595d4-2780-4f47-8887-274fe6371577",
   "metadata": {},
   "source": [
    "## Float "
   ]
  },
  {
   "cell_type": "code",
   "execution_count": 4,
   "id": "15e35eaa-b0e1-4b2c-9724-22b6d336f16b",
   "metadata": {},
   "outputs": [
    {
     "name": "stdout",
     "output_type": "stream",
     "text": [
      "6.12\n",
      "<class 'float'>\n"
     ]
    }
   ],
   "source": [
    "y = 6.12\n",
    "print (y)\n",
    "print (type(y))"
   ]
  },
  {
   "cell_type": "markdown",
   "id": "c1ec3c38-36cc-4f35-a71c-38f8793b86f3",
   "metadata": {},
   "source": [
    "## Complex"
   ]
  },
  {
   "cell_type": "code",
   "execution_count": 7,
   "id": "a9835e51-8e59-4d93-b902-c4a78a4adc41",
   "metadata": {},
   "outputs": [
    {
     "name": "stdout",
     "output_type": "stream",
     "text": [
      "(6+3j)\n",
      "<class 'complex'>\n"
     ]
    }
   ],
   "source": [
    "z = 6 + 3j\n",
    "print (z)\n",
    "print (type(z))"
   ]
  },
  {
   "cell_type": "markdown",
   "id": "d9abb084-2a5c-44e6-8cbc-2d16156ae357",
   "metadata": {},
   "source": [
    "## String"
   ]
  },
  {
   "cell_type": "code",
   "execution_count": 9,
   "id": "082ad7b7-7951-43d3-91c5-df08fd6e6049",
   "metadata": {},
   "outputs": [
    {
     "name": "stdout",
     "output_type": "stream",
     "text": [
      "What is python?\n",
      "<class 'str'>\n"
     ]
    }
   ],
   "source": [
    "j = \"What is python?\"\n",
    "print (j)\n",
    "print (type(j))"
   ]
  },
  {
   "cell_type": "markdown",
   "id": "6c0ef981-3b03-446e-98b1-fd070be24025",
   "metadata": {},
   "source": [
    "## Boolean "
   ]
  },
  {
   "cell_type": "code",
   "execution_count": 6,
   "id": "ca8ff86b-74cc-45c7-bc10-165da36f70d5",
   "metadata": {},
   "outputs": [
    {
     "name": "stdout",
     "output_type": "stream",
     "text": [
      "False\n",
      "<class 'str'>\n"
     ]
    }
   ],
   "source": [
    "p = \"False\"\n",
    "print (p)\n",
    "print (type(p))"
   ]
  },
  {
   "cell_type": "markdown",
   "id": "a51d0860-e28a-4011-adb1-1e905b705a1a",
   "metadata": {},
   "source": [
    "# DATA STRUCTURE"
   ]
  },
  {
   "cell_type": "markdown",
   "id": "d481cfc7-0300-4d79-98c1-dca89f179ac0",
   "metadata": {},
   "source": [
    "## Set"
   ]
  },
  {
   "cell_type": "code",
   "execution_count": 15,
   "id": "31cd7f7e-419e-4588-823f-3f3552a07395",
   "metadata": {},
   "outputs": [
    {
     "name": "stdout",
     "output_type": "stream",
     "text": [
      "{'watermelon', 'grape', 'apple'}\n",
      "<class 'set'>\n"
     ]
    }
   ],
   "source": [
    "fruit = {\"apple\", \"watermelon\", \"grape\"}\n",
    "print (fruit)\n",
    "print (type(fruit))"
   ]
  },
  {
   "cell_type": "markdown",
   "id": "3d39ab55-b733-4632-90b3-89b46a8a8007",
   "metadata": {},
   "source": [
    "## Dictionary "
   ]
  },
  {
   "cell_type": "code",
   "execution_count": 2,
   "id": "42615ca1-2aa3-4cde-be0c-75556e7c5902",
   "metadata": {},
   "outputs": [
    {
     "name": "stdout",
     "output_type": "stream",
     "text": [
      "{'name': 'Seun', 'age': 10, 'cgpa': '5.0'}\n",
      "<class 'dict'>\n"
     ]
    }
   ],
   "source": [
    "student = {\"name\": \"Seun\", \"age\": 10, \"cgpa\": \"5.0\"}\n",
    "print (student)\n",
    "print (type(student))"
   ]
  },
  {
   "cell_type": "markdown",
   "id": "36ab68e8-5956-4766-afd5-78125d317114",
   "metadata": {},
   "source": [
    "## List"
   ]
  },
  {
   "cell_type": "code",
   "execution_count": 9,
   "id": "15d620b8-bf87-4ca2-8aac-68b4b32a0d5d",
   "metadata": {},
   "outputs": [
    {
     "name": "stdout",
     "output_type": "stream",
     "text": [
      "{34, 12, 110, 87}\n",
      "<class 'set'>\n"
     ]
    }
   ],
   "source": [
    "numbers = { 12, 34, 87, 110}\n",
    "print (numbers)\n",
    "print (type(numbers))"
   ]
  },
  {
   "cell_type": "markdown",
   "id": "09be1e5c-a0fb-4452-97c7-e892ceaf2c91",
   "metadata": {},
   "source": [
    "## Tuple"
   ]
  },
  {
   "cell_type": "code",
   "execution_count": 12,
   "id": "06891e28-f50f-4c4b-8746-4d402f3049c3",
   "metadata": {},
   "outputs": [
    {
     "name": "stdout",
     "output_type": "stream",
     "text": [
      "{'brown', 'purple', 'red'}\n",
      "<class 'set'>\n"
     ]
    }
   ],
   "source": [
    "colours = {\"purple\", \"brown\", \"red\" }\n",
    "print (colours)\n",
    "print (type(colours))"
   ]
  },
  {
   "cell_type": "code",
   "execution_count": null,
   "id": "9f4b2d24-5d51-4e9d-877d-51c2892c2c10",
   "metadata": {},
   "outputs": [],
   "source": []
  }
 ],
 "metadata": {
  "kernelspec": {
   "display_name": "Python 3 (ipykernel)",
   "language": "python",
   "name": "python3"
  },
  "language_info": {
   "codemirror_mode": {
    "name": "ipython",
    "version": 3
   },
   "file_extension": ".py",
   "mimetype": "text/x-python",
   "name": "python",
   "nbconvert_exporter": "python",
   "pygments_lexer": "ipython3",
   "version": "3.13.7"
  }
 },
 "nbformat": 4,
 "nbformat_minor": 5
}
